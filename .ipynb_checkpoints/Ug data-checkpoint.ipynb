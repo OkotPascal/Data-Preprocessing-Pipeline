{
 "cells": [
  {
   "cell_type": "markdown",
   "id": "1df9005e",
   "metadata": {},
   "source": [
    "### Data Preprocessing Pipeline"
   ]
  },
  {
   "cell_type": "markdown",
   "id": "8588c3b8",
   "metadata": {},
   "source": [
    "Inspired By AMAN KHARWAL(thecleverprogrammer.com) & edited by Okot Pascal(Data Scientist):\n",
    "\n",
    "Data preprocessing is a critical step in data science tasks, ensuring that raw data is transformed into a clean, organized, and structured format suitable for analysis. A data preprocessing pipeline streamlines this complex process by automating a series of steps, enabling data professionals to efficiently and consistently preprocess diverse datasets.\n",
    "\n",
    "#### What is a Data Preprocessing Pipeline?\n",
    "\n",
    "Data Preprocessing involves transforming and manipulating raw data to improve its quality, consistency, and relevance for analysis. It encompasses several tasks, including handling missing values, standardizing variables, and removing outliers. By performing these preprocessing steps, data professionals ensure that subsequent analysis is based on reliable and accurate data, leading to better insights and predictions.\n",
    "\n",
    "A data preprocessing pipeline is a systematic and automated approach that combines multiple preprocessing steps into a cohesive workflow. It serves as a roadmap for data professionals, guiding them through the transformations and calculations needed to cleanse and prepare data for analysis. The pipeline consists of interconnected steps, each of which is responsible for a specific preprocessing task, such as:\n",
    "\n",
    "- Imputing missing values\n",
    "- Scaling numeric features\n",
    "- Finding and removing outliers\n",
    "- Encoding categorical variables\n",
    "\n",
    "By following the predefined sequence of operations, the pipeline ensures consistency, reproducibility, and efficiency in overall preprocessing steps.\n",
    "\n",
    "#### How does a Data Preprocessing Pipeline Helps Data Professionals?\n",
    "\n",
    "A Data Preprocessing pipeline is crucial to help various data science professionals, including data engineers, data analysts, data scientists, and machine learning engineers, in their respective roles.\n",
    "\n",
    "+ For Data Engineers, the pipeline simplifies work by automating data transformation tasks, allowing them to focus on designing scalable data architectures and optimizing data pipelines.\n",
    "\n",
    "+ Data Analysts benefit from the pipeline’s ability to normalize and clean data, ensuring accuracy and reducing time spent on data cleaning tasks. It allows analysts to spend more time on exploratory data analysis and gaining meaningful insights.\n",
    "\n",
    "+ Data Scientists and Machine Learning Engineers rely on clean and well-preprocessed data for accurate predictive modelling and advanced analytics. The preprocessing pipeline automates repetitive preprocessing tasks, allowing them efficiently experiment and quickly iterate on their datasets.\n",
    "\n",
    "Here’s how to create a Data Preprocessing pipeline using Python based on the fundamental functions that every pipeline should perform while preprocessing any dataset:"
   ]
  },
  {
   "cell_type": "code",
   "execution_count": 1,
   "id": "2358021c",
   "metadata": {},
   "outputs": [],
   "source": [
    "import pandas as pd\n",
    "import numpy as np\n",
    "\n",
    "from sklearn.preprocessing import StandardScaler\n",
    "pd.set_option(\"display.max_columns\", None)"
   ]
  },
  {
   "cell_type": "code",
   "execution_count": 4,
   "id": "0ea1ddc9",
   "metadata": {},
   "outputs": [
    {
     "data": {
      "text/html": [
       "<div>\n",
       "<style scoped>\n",
       "    .dataframe tbody tr th:only-of-type {\n",
       "        vertical-align: middle;\n",
       "    }\n",
       "\n",
       "    .dataframe tbody tr th {\n",
       "        vertical-align: top;\n",
       "    }\n",
       "\n",
       "    .dataframe thead th {\n",
       "        text-align: right;\n",
       "    }\n",
       "</style>\n",
       "<table border=\"1\" class=\"dataframe\">\n",
       "  <thead>\n",
       "    <tr style=\"text-align: right;\">\n",
       "      <th></th>\n",
       "      <th>Indicators</th>\n",
       "      <th>Q4 2014</th>\n",
       "      <th>Q1 2015</th>\n",
       "      <th>Change %</th>\n",
       "    </tr>\n",
       "  </thead>\n",
       "  <tbody>\n",
       "    <tr>\n",
       "      <th>0</th>\n",
       "      <td>Mobile Subscriptions(Prepaid)</td>\n",
       "      <td>20257656.0</td>\n",
       "      <td>21347079.0</td>\n",
       "      <td>5.4</td>\n",
       "    </tr>\n",
       "    <tr>\n",
       "      <th>1</th>\n",
       "      <td>Mobile Subscriptions(Postpaid)</td>\n",
       "      <td>NaN</td>\n",
       "      <td>110282.0</td>\n",
       "      <td>NaN</td>\n",
       "    </tr>\n",
       "    <tr>\n",
       "      <th>2</th>\n",
       "      <td>Fixed Subscriptions</td>\n",
       "      <td>324442.0</td>\n",
       "      <td>349163.0</td>\n",
       "      <td>7.6</td>\n",
       "    </tr>\n",
       "    <tr>\n",
       "      <th>3</th>\n",
       "      <td>Tele-Density</td>\n",
       "      <td>56.5</td>\n",
       "      <td>62.5</td>\n",
       "      <td>10.6</td>\n",
       "    </tr>\n",
       "    <tr>\n",
       "      <th>4</th>\n",
       "      <td>National Status</td>\n",
       "      <td>20690383.0</td>\n",
       "      <td>21806523.0</td>\n",
       "      <td>5.4</td>\n",
       "    </tr>\n",
       "  </tbody>\n",
       "</table>\n",
       "</div>"
      ],
      "text/plain": [
       "                       Indicators     Q4 2014     Q1 2015  Change %\n",
       "0   Mobile Subscriptions(Prepaid)  20257656.0  21347079.0       5.4\n",
       "1  Mobile Subscriptions(Postpaid)         NaN    110282.0       NaN\n",
       "2            Fixed Subscriptions     324442.0    349163.0       7.6\n",
       "3                    Tele-Density        56.5        62.5      10.6\n",
       "4                 National Status  20690383.0  21806523.0       5.4"
      ]
     },
     "execution_count": 4,
     "metadata": {},
     "output_type": "execute_result"
    }
   ],
   "source": [
    "# This will act as the sample data\n",
    "df = pd.read_excel('Ug data.xlsx')\n",
    "df"
   ]
  },
  {
   "cell_type": "code",
   "execution_count": 9,
   "id": "ae22b4c7",
   "metadata": {},
   "outputs": [],
   "source": [
    "def data_preprocessing_pipeline(df):\n",
    "    # To identify categorical and numeric features\n",
    "    #numeric_features = df.select_dtypes(include=['float', 'int']).columns\n",
    "    #categorical_features = df.select_dtypes(include=['object']).columns\n",
    "    \n",
    "    numeric_features = df.select_dtypes(include=['float', 'int']).columns\n",
    "    categorical_features = df.select_dtypes(include=['object']).columns\n",
    "\n",
    "    #To handle missing values in numeric features\n",
    "    df[numeric_features] = df[numeric_features].fillna(df[numeric_features].mean())\n",
    "    \n",
    "    #To detect and handle outliers in the numeric features using IQR\n",
    "    for _ in numeric_features:\n",
    "        Q1 = df[_].quantile(0.25)\n",
    "        Q3 = df[_].quantile(0.75)\n",
    "        IQR = Q3 - Q1\n",
    "        \n",
    "        lower_bound = Q1-(1.5*IQR)\n",
    "        upper_bound = Q3+(1.5*IQR)\n",
    "        df[_] = np.where((df[_]<lower_bound) | (df[_]>upper_bound), df[_].mean(), df[_])\n",
    "        \n",
    "        #Normalise numeric features\n",
    "        scaler = StandardScaler()\n",
    "        scaled_data = scaler.fit_transform(df[numeric_features])\n",
    "        df[numeric_features] = scaler.transform(df[numeric_features])\n",
    "        \n",
    "        #To Handle missing values in categorical features\n",
    "        df[categorical_features] = df[categorical_features].fillna(df[categorical_features].mode().iloc[0])\n",
    "        \n",
    "        return df"
   ]
  },
  {
   "cell_type": "markdown",
   "id": "6acea040",
   "metadata": {},
   "source": [
    "The above pipeline is designed to handle various preprocessing tasks on any given dataset and the funtionality is explained below:\n",
    "\n",
    "+ The pipeline begins by identifying the numeric and categorical features in the dataset.\n",
    "\n",
    "+ It then addresses any missing values present in the numeric features. It fills these missing values with the mean value of each respective numeric feature (you can modify this step according to your desired way of filling in missing values of a numerical feature). It ensures that missing data does not hinder subsequent analysis and computations.\n",
    "\n",
    "+ The pipeline then identifies and handles outliers within the numeric features using the Interquartile Range (IQR) method. Calculating the quartiles and the IQR determines upper and lower boundaries for outliers. Any values outside these boundaries are replaced with the mean value of the respective numeric feature. This step helps prevent the influence of extreme values on subsequent analyses and model building.\n",
    "\n",
    "+ After handling missing values and outliers, the pipeline normalizes the numeric features. This process ensures that all numeric features contribute equally to subsequent analysis, avoiding biases caused by varying magnitudes.\n",
    "\n",
    "+ The pipeline then proceeds to handle missing values in the categorical features. It fills these missing values with the mode value, representing the most frequently occurring category. However for the above data the categorical values don't have missing values.(This is only for Explanation purposes)"
   ]
  },
  {
   "cell_type": "code",
   "execution_count": 10,
   "id": "14959685",
   "metadata": {},
   "outputs": [
    {
     "name": "stdout",
     "output_type": "stream",
     "text": [
      "Preprocessed Data\n",
      "                       Indicators   Q4 2014   Q1 2015  Change %\n",
      "0   Mobile Subscriptions(Prepaid)  1.094021  1.202672  -0.96993\n",
      "1  Mobile Subscriptions(Postpaid)  0.000000 -0.820457   0.00000\n",
      "2            Fixed Subscriptions  -1.099984 -0.797700   0.18350\n",
      "3                    Tele-Density -1.135688 -0.830957   1.75636\n",
      "4                 National Status  1.141651  1.246441  -0.96993\n"
     ]
    }
   ],
   "source": [
    "#To test the pipeline\n",
    "cleaned_data = data_preprocessing_pipeline(df)\n",
    "\n",
    "print(\"Preprocessed Data\")\n",
    "print(cleaned_data)"
   ]
  },
  {
   "cell_type": "code",
   "execution_count": 11,
   "id": "7b241647",
   "metadata": {},
   "outputs": [
    {
     "data": {
      "text/html": [
       "<div>\n",
       "<style scoped>\n",
       "    .dataframe tbody tr th:only-of-type {\n",
       "        vertical-align: middle;\n",
       "    }\n",
       "\n",
       "    .dataframe tbody tr th {\n",
       "        vertical-align: top;\n",
       "    }\n",
       "\n",
       "    .dataframe thead th {\n",
       "        text-align: right;\n",
       "    }\n",
       "</style>\n",
       "<table border=\"1\" class=\"dataframe\">\n",
       "  <thead>\n",
       "    <tr style=\"text-align: right;\">\n",
       "      <th></th>\n",
       "      <th>Indicators</th>\n",
       "      <th>Q4 2014</th>\n",
       "      <th>Q1 2015</th>\n",
       "      <th>Change %</th>\n",
       "    </tr>\n",
       "  </thead>\n",
       "  <tbody>\n",
       "    <tr>\n",
       "      <th>0</th>\n",
       "      <td>Mobile Subscriptions(Prepaid)</td>\n",
       "      <td>1.094021</td>\n",
       "      <td>1.202672</td>\n",
       "      <td>-0.96993</td>\n",
       "    </tr>\n",
       "    <tr>\n",
       "      <th>1</th>\n",
       "      <td>Mobile Subscriptions(Postpaid)</td>\n",
       "      <td>0.000000</td>\n",
       "      <td>-0.820457</td>\n",
       "      <td>0.00000</td>\n",
       "    </tr>\n",
       "    <tr>\n",
       "      <th>2</th>\n",
       "      <td>Fixed Subscriptions</td>\n",
       "      <td>-1.099984</td>\n",
       "      <td>-0.797700</td>\n",
       "      <td>0.18350</td>\n",
       "    </tr>\n",
       "    <tr>\n",
       "      <th>3</th>\n",
       "      <td>Tele-Density</td>\n",
       "      <td>-1.135688</td>\n",
       "      <td>-0.830957</td>\n",
       "      <td>1.75636</td>\n",
       "    </tr>\n",
       "    <tr>\n",
       "      <th>4</th>\n",
       "      <td>National Status</td>\n",
       "      <td>1.141651</td>\n",
       "      <td>1.246441</td>\n",
       "      <td>-0.96993</td>\n",
       "    </tr>\n",
       "  </tbody>\n",
       "</table>\n",
       "</div>"
      ],
      "text/plain": [
       "                       Indicators   Q4 2014   Q1 2015  Change %\n",
       "0   Mobile Subscriptions(Prepaid)  1.094021  1.202672  -0.96993\n",
       "1  Mobile Subscriptions(Postpaid)  0.000000 -0.820457   0.00000\n",
       "2            Fixed Subscriptions  -1.099984 -0.797700   0.18350\n",
       "3                    Tele-Density -1.135688 -0.830957   1.75636\n",
       "4                 National Status  1.141651  1.246441  -0.96993"
      ]
     },
     "execution_count": 11,
     "metadata": {},
     "output_type": "execute_result"
    }
   ],
   "source": [
    "df"
   ]
  },
  {
   "cell_type": "code",
   "execution_count": null,
   "id": "681ab025",
   "metadata": {},
   "outputs": [],
   "source": []
  }
 ],
 "metadata": {
  "kernelspec": {
   "display_name": "Python 3 (ipykernel)",
   "language": "python",
   "name": "python3"
  },
  "language_info": {
   "codemirror_mode": {
    "name": "ipython",
    "version": 3
   },
   "file_extension": ".py",
   "mimetype": "text/x-python",
   "name": "python",
   "nbconvert_exporter": "python",
   "pygments_lexer": "ipython3",
   "version": "3.9.13"
  }
 },
 "nbformat": 4,
 "nbformat_minor": 5
}
