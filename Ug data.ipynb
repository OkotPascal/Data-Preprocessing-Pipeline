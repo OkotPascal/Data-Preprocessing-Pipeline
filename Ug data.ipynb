{
 "cells": [
  {
   "cell_type": "markdown",
   "id": "1df9005e",
   "metadata": {},
   "source": [
    "### Data Preprocessing Pipeline"
   ]
  },
  {
   "cell_type": "markdown",
   "id": "8588c3b8",
   "metadata": {},
   "source": [
    "Edited by Okot Pascal(Data Scientist):\n",
    "\n",
    "Data preprocessing is a critical step in data science tasks, ensuring that raw data is transformed into a clean, organized, and structured format suitable for analysis. A data preprocessing pipeline streamlines this complex process by automating a series of steps, enabling data professionals to efficiently and consistently preprocess diverse datasets.\n",
    "\n",
    "#### What is a Data Preprocessing Pipeline?\n",
    "\n",
    "Data Preprocessing involves transforming and manipulating raw data to improve its quality, consistency, and relevance for analysis. It encompasses several tasks, including handling missing values, standardizing variables, and removing outliers. By performing these preprocessing steps, data professionals ensure that subsequent analysis is based on reliable and accurate data, leading to better insights and predictions.\n",
    "\n",
    "A data preprocessing pipeline is a systematic and automated approach that combines multiple preprocessing steps into a cohesive workflow. It serves as a roadmap for data professionals, guiding them through the transformations and calculations needed to cleanse and prepare data for analysis. The pipeline consists of interconnected steps, each of which is responsible for a specific preprocessing task, such as:\n",
    "\n",
    "- Imputing missing values\n",
    "- Scaling numeric features\n",
    "- Finding and removing outliers\n",
    "- Encoding categorical variables\n",
    "\n",
    "By following the predefined sequence of operations, the pipeline ensures consistency, reproducibility, and efficiency in overall preprocessing steps.\n",
    "\n",
    "#### How does a Data Preprocessing Pipeline Helps Data Professionals?\n",
    "\n",
    "A Data Preprocessing pipeline is crucial to help various data science professionals, including data engineers, data analysts, data scientists, and machine learning engineers, in their respective roles.\n",
    "\n",
    "+ For Data Engineers, the pipeline simplifies work by automating data transformation tasks, allowing them to focus on designing scalable data architectures and optimizing data pipelines.\n",
    "\n",
    "+ Data Analysts benefit from the pipeline’s ability to normalize and clean data, ensuring accuracy and reducing time spent on data cleaning tasks. It allows analysts to spend more time on exploratory data analysis and gaining meaningful insights.\n",
    "\n",
    "+ Data Scientists and Machine Learning Engineers rely on clean and well-preprocessed data for accurate predictive modelling and advanced analytics. The preprocessing pipeline automates repetitive preprocessing tasks, allowing them efficiently experiment and quickly iterate on their datasets.\n",
    "\n",
    "Here’s how to create a Data Preprocessing pipeline using Python based on the fundamental functions that every pipeline should perform while preprocessing any dataset:"
   ]
  },
  {
   "cell_type": "code",
   "execution_count": 1,
   "id": "2358021c",
   "metadata": {},
   "outputs": [],
   "source": [
    "import pandas as pd\n",
    "import numpy as np\n",
    "\n",
    "from sklearn.preprocessing import StandardScaler\n",
    "pd.set_option(\"display.max_columns\", None)"
   ]
  },
  {
   "cell_type": "code",
   "execution_count": 2,
   "id": "0ea1ddc9",
   "metadata": {
    "scrolled": true
   },
   "outputs": [
    {
     "data": {
      "text/html": [
       "<div>\n",
       "<style scoped>\n",
       "    .dataframe tbody tr th:only-of-type {\n",
       "        vertical-align: middle;\n",
       "    }\n",
       "\n",
       "    .dataframe tbody tr th {\n",
       "        vertical-align: top;\n",
       "    }\n",
       "\n",
       "    .dataframe thead th {\n",
       "        text-align: right;\n",
       "    }\n",
       "</style>\n",
       "<table border=\"1\" class=\"dataframe\">\n",
       "  <thead>\n",
       "    <tr style=\"text-align: right;\">\n",
       "      <th></th>\n",
       "      <th>Why Couples Fight</th>\n",
       "      <th>Women %</th>\n",
       "      <th>Men %</th>\n",
       "    </tr>\n",
       "  </thead>\n",
       "  <tbody>\n",
       "    <tr>\n",
       "      <th>0</th>\n",
       "      <td>Children</td>\n",
       "      <td>9.7</td>\n",
       "      <td>5.6</td>\n",
       "    </tr>\n",
       "    <tr>\n",
       "      <th>1</th>\n",
       "      <td>Sex</td>\n",
       "      <td>7.1</td>\n",
       "      <td>9.1</td>\n",
       "    </tr>\n",
       "    <tr>\n",
       "      <th>2</th>\n",
       "      <td>House Work</td>\n",
       "      <td>8.5</td>\n",
       "      <td>4.2</td>\n",
       "    </tr>\n",
       "    <tr>\n",
       "      <th>3</th>\n",
       "      <td>Money</td>\n",
       "      <td>NaN</td>\n",
       "      <td>6.2</td>\n",
       "    </tr>\n",
       "    <tr>\n",
       "      <th>4</th>\n",
       "      <td>Leisure</td>\n",
       "      <td>8.1</td>\n",
       "      <td>NaN</td>\n",
       "    </tr>\n",
       "    <tr>\n",
       "      <th>5</th>\n",
       "      <td>Alcohol</td>\n",
       "      <td>7.2</td>\n",
       "      <td>4.4</td>\n",
       "    </tr>\n",
       "  </tbody>\n",
       "</table>\n",
       "</div>"
      ],
      "text/plain": [
       "  Why Couples Fight  Women %  Men %\n",
       "0          Children      9.7    5.6\n",
       "1               Sex      7.1    9.1\n",
       "2        House Work      8.5    4.2\n",
       "3             Money      NaN    6.2\n",
       "4           Leisure      8.1    NaN\n",
       "5           Alcohol      7.2    4.4"
      ]
     },
     "execution_count": 2,
     "metadata": {},
     "output_type": "execute_result"
    }
   ],
   "source": [
    "# This will act as the sample data\n",
    "df = pd.read_excel('Ug data.xlsx')\n",
    "df"
   ]
  },
  {
   "cell_type": "code",
   "execution_count": 3,
   "id": "ae22b4c7",
   "metadata": {},
   "outputs": [],
   "source": [
    "def data_preprocessing_pipeline(df):\n",
    "    # To identify categorical and numeric features\n",
    "    numeric_features = df.select_dtypes(include=['float', 'int']).columns\n",
    "    categorical_features = df.select_dtypes(include=['object']).columns\n",
    "\n",
    "    #To handle missing values in numeric features\n",
    "    df[numeric_features] = df[numeric_features].fillna(df[numeric_features].mean())\n",
    "    \n",
    "    #To detect and handle outliers in the numeric features using IQR\n",
    "    for _ in numeric_features:\n",
    "        Q1 = df[_].quantile(0.25)\n",
    "        Q3 = df[_].quantile(0.75)\n",
    "        IQR = Q3 - Q1\n",
    "        \n",
    "        lower_bound = Q1-(1.5*IQR)\n",
    "        upper_bound = Q3+(1.5*IQR)\n",
    "        df[_] = np.where((df[_]<lower_bound) | (df[_]>upper_bound), df[_].mean(), df[_])\n",
    "        \n",
    "        #Normalise numeric features\n",
    "        scaler = StandardScaler()\n",
    "        scaled_data = scaler.fit_transform(df[numeric_features])\n",
    "        df[numeric_features] = scaler.transform(df[numeric_features])\n",
    "        \n",
    "        #To Handle missing values in categorical features\n",
    "        df[categorical_features] = df[categorical_features].fillna(df[categorical_features].mode().iloc[0])\n",
    "        \n",
    "    return df"
   ]
  },
  {
   "cell_type": "markdown",
   "id": "6acea040",
   "metadata": {},
   "source": [
    "The above pipeline is designed to handle various preprocessing tasks on any given dataset and the funtionality is explained below:\n",
    "\n",
    "+ The pipeline begins by identifying the numeric and categorical features in the dataset.\n",
    "\n",
    "+ It then addresses any missing values present in the numeric features. It fills these missing values with the mean value of each respective numeric feature (you can modify this step according to your desired way of filling in missing values of a numerical feature). It ensures that missing data does not hinder subsequent analysis and computations.\n",
    "\n",
    "+ The pipeline then identifies and handles outliers within the numeric features using the Interquartile Range (IQR) method. Calculating the quartiles and the IQR determines upper and lower boundaries for outliers. Any values outside these boundaries are replaced with the mean value of the respective numeric feature. This step helps prevent the influence of extreme values on subsequent analyses and model building.\n",
    "\n",
    "+ After handling missing values and outliers, the pipeline normalizes the numeric features. This process ensures that all numeric features contribute equally to subsequent analysis, avoiding biases caused by varying magnitudes.\n",
    "\n",
    "+ The pipeline then proceeds to handle missing values in the categorical features. It fills these missing values with the mode value, representing the most frequently occurring category. However for the above data the categorical values don't have missing values.(This is only for Explanation purposes)"
   ]
  },
  {
   "cell_type": "code",
   "execution_count": 4,
   "id": "14959685",
   "metadata": {},
   "outputs": [
    {
     "name": "stdout",
     "output_type": "stream",
     "text": [
      "Preprocessed Data\n"
     ]
    },
    {
     "data": {
      "text/html": [
       "<div>\n",
       "<style scoped>\n",
       "    .dataframe tbody tr th:only-of-type {\n",
       "        vertical-align: middle;\n",
       "    }\n",
       "\n",
       "    .dataframe tbody tr th {\n",
       "        vertical-align: top;\n",
       "    }\n",
       "\n",
       "    .dataframe thead th {\n",
       "        text-align: right;\n",
       "    }\n",
       "</style>\n",
       "<table border=\"1\" class=\"dataframe\">\n",
       "  <thead>\n",
       "    <tr style=\"text-align: right;\">\n",
       "      <th></th>\n",
       "      <th>Why Couples Fight</th>\n",
       "      <th>Women %</th>\n",
       "      <th>Men %</th>\n",
       "    </tr>\n",
       "  </thead>\n",
       "  <tbody>\n",
       "    <tr>\n",
       "      <th>0</th>\n",
       "      <td>Children</td>\n",
       "      <td>1.818777e+00</td>\n",
       "      <td>0.300676</td>\n",
       "    </tr>\n",
       "    <tr>\n",
       "      <th>1</th>\n",
       "      <td>Sex</td>\n",
       "      <td>-1.174147e+00</td>\n",
       "      <td>0.687259</td>\n",
       "    </tr>\n",
       "    <tr>\n",
       "      <th>2</th>\n",
       "      <td>House Work</td>\n",
       "      <td>4.374274e-01</td>\n",
       "      <td>-1.503379</td>\n",
       "    </tr>\n",
       "    <tr>\n",
       "      <th>3</th>\n",
       "      <td>Money</td>\n",
       "      <td>1.184238e-15</td>\n",
       "      <td>1.073842</td>\n",
       "    </tr>\n",
       "    <tr>\n",
       "      <th>4</th>\n",
       "      <td>Leisure</td>\n",
       "      <td>-2.302250e-02</td>\n",
       "      <td>0.687259</td>\n",
       "    </tr>\n",
       "    <tr>\n",
       "      <th>5</th>\n",
       "      <td>Alcohol</td>\n",
       "      <td>-1.059035e+00</td>\n",
       "      <td>-1.245657</td>\n",
       "    </tr>\n",
       "  </tbody>\n",
       "</table>\n",
       "</div>"
      ],
      "text/plain": [
       "  Why Couples Fight       Women %     Men %\n",
       "0          Children  1.818777e+00  0.300676\n",
       "1               Sex -1.174147e+00  0.687259\n",
       "2        House Work  4.374274e-01 -1.503379\n",
       "3             Money  1.184238e-15  1.073842\n",
       "4           Leisure -2.302250e-02  0.687259\n",
       "5           Alcohol -1.059035e+00 -1.245657"
      ]
     },
     "execution_count": 4,
     "metadata": {},
     "output_type": "execute_result"
    }
   ],
   "source": [
    "#To test the pipeline\n",
    "cleaned_df = data_preprocessing_pipeline(df)\n",
    "\n",
    "print(\"Preprocessed Data\")\n",
    "df"
   ]
  },
  {
   "cell_type": "code",
   "execution_count": null,
   "id": "681ab025",
   "metadata": {},
   "outputs": [],
   "source": []
  }
 ],
 "metadata": {
  "kernelspec": {
   "display_name": "Python 3 (ipykernel)",
   "language": "python",
   "name": "python3"
  },
  "language_info": {
   "codemirror_mode": {
    "name": "ipython",
    "version": 3
   },
   "file_extension": ".py",
   "mimetype": "text/x-python",
   "name": "python",
   "nbconvert_exporter": "python",
   "pygments_lexer": "ipython3",
   "version": "3.9.13"
  }
 },
 "nbformat": 4,
 "nbformat_minor": 5
}
